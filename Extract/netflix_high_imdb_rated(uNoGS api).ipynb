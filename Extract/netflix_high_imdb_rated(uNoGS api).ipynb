{
 "cells": [
  {
   "cell_type": "markdown",
   "metadata": {},
   "source": [
    "### Collecting movies on Neflix in United States which have an IMDb rating greater than or equal to 7"
   ]
  },
  {
   "cell_type": "markdown",
   "metadata": {},
   "source": [
    "### Source: https://rapidapi.com/unogs/api/unogs/endpoints"
   ]
  },
  {
   "cell_type": "markdown",
   "metadata": {},
   "source": [
    "#### EndPoint: GET Advanced Search\n",
    "\n",
    "Page Limit- 100 results returned per page"
   ]
  },
  {
   "cell_type": "code",
   "execution_count": 1,
   "metadata": {},
   "outputs": [],
   "source": [
    "# Import dependencies\n",
    "\n",
    "import requests\n",
    "import json\n",
    "import pandas as pd\n",
    "import time\n",
    "from config import api_key\n",
    "\n",
    "# Use this to pretty print the JSON\n",
    "from pprint import pprint"
   ]
  },
  {
   "cell_type": "markdown",
   "metadata": {},
   "source": [
    "#### Search Query Parameters\n",
    "'cl' is country list and 78 is the code for United States (infered from the source link).\n",
    "\n",
    "The query has other parameters for genre, subtitles, audio, etc. No filtering done on basis of these parameters."
   ]
  },
  {
   "cell_type": "code",
   "execution_count": 2,
   "metadata": {},
   "outputs": [],
   "source": [
    "# import requests\n",
    "\n",
    "url = \"https://unogs-unogs-v1.p.rapidapi.com/aaapi.cgi\"\n",
    "    \n",
    "querystring = {\n",
    "    \"q\": \"{query}-!1900,2020-!0,5-!7,10-!Any-!Movie-!Any-!Any-!gt100-!{downloadable}\",\n",
    "    \"t\": \"ns\",\n",
    "    \"cl\": \"78\",\n",
    "    \"st\": \"adv\",\n",
    "    \"ob\": \"Rating\",\n",
    "#     \"p\": \"1\",\n",
    "    \"sa\": \"or\"\n",
    "};\n",
    "\n",
    "headers = {\n",
    "    'x-rapidapi-host': \"unogs-unogs-v1.p.rapidapi.com\",\n",
    "    'x-rapidapi-key': api_key\n",
    "    }\n"
   ]
  },
  {
   "cell_type": "code",
   "execution_count": 3,
   "metadata": {},
   "outputs": [
    {
     "name": "stdout",
     "output_type": "stream",
     "text": [
      "On Page:  1\n",
      "Printing first result: Result 1 of 100\n",
      "\n",
      "\n",
      "{'netflixid': '80192064', 'title': 'Luciano Mellera: Infantiloide', 'image': 'http://occ-0-2851-38.1.nflxso.net/dnm/api/v6/evlCitJPPCVCry0BZlEFb5-QjKc/AAAABZPbNynCLoKGa8apkY2aS3R81-qI5FOlRL1OqxFHKPsDJzrJIHtr6l2ZhRPVG7TmfDuL2ShqjH7tv9kApsbWAOIkskTbuAUa5SswK8ZkDBx_27E9UTZHMaUM2Mw.jpg?r=2f1', 'synopsis': 'Argentina&#39;s Luciano Mellera emphasizes the humorous and fantastical aspects of childhood through comedic impersonations and insights on daily life.', 'rating': '9.6', 'type': 'movie', 'released': '2018', 'runtime': '1h6m', 'largeimage': '', 'unogsdate': '2018-07-07', 'imdbid': 'tt7607400', 'download': '0'}\n",
      "On Page:  2\n",
      "Printing first result: Result 1 of 100\n",
      "\n",
      "\n",
      "{'netflixid': '70202336', 'title': 'Zindagi Na Milegi Dobara', 'image': 'https://occ-0-2851-38.1.nflxso.net/dnm/api/v6/evlCitJPPCVCry0BZlEFb5-QjKc/AAAABUPjy-dhBiQt0oU3oeE-wIDfJoogFr-wAPW0wci0xamUt0crJ3tww78srCYj1wQNE3zMBlU3vrQ6up8IsoOQIbv5ZQ.jpg?r=67d', 'synopsis': 'Three friends on an adventurous road trip/bachelor party in Spain learn some lessons about themselves and each other that will change them forever.', 'rating': '8.1', 'type': 'movie', 'released': '2011', 'runtime': '2h33m', 'largeimage': 'http://cdn0.nflximg.net/images/9847/8969847.jpg', 'unogsdate': '2015-04-14', 'imdbid': 'tt1562872', 'download': ''}\n",
      "On Page:  3\n",
      "Printing first result: Result 1 of 100\n",
      "\n",
      "\n",
      "{'netflixid': '498716', 'title': 'Ferris Bueller&#39;s Day Off', 'image': 'https://occ-0-2717-360.1.nflxso.net/dnm/api/v6/evlCitJPPCVCry0BZlEFb5-QjKc/AAAABR7m9jgy8vxgH2oETlg-WhZ_QOVVfX61BviQpmfEoggABMgWHHQtlmuBnkMZFFSszxghbctm_CppXQTI2Sy2s_PBww.jpg?r=cbb', 'synopsis': 'Ferris convinces his entire school he&#39;s at death&#39;s door, then hits the streets of Chicago with his girlfriend and best friend for a day of fun.', 'rating': '7.8', 'type': 'movie', 'released': '1986', 'runtime': '1h42m', 'largeimage': 'http://cdn0.nflximg.net/images/4533/23724533.jpg', 'unogsdate': '2015-04-14', 'imdbid': 'tt0091042', 'download': '0'}\n",
      "On Page:  4\n",
      "Printing first result: Result 1 of 100\n",
      "\n",
      "\n",
      "{'netflixid': '70166234', 'title': 'Being Elmo: A Puppeteer&#39;s Journey', 'image': 'https://occ-0-2851-38.1.nflxso.net/dnm/api/v6/evlCitJPPCVCry0BZlEFb5-QjKc/AAAABRUsoy6fopoC806dtGoefmHvUc57Gt3-45n_KWXzL-3ZpVt8HuowAptZA7ufToa_CpiajQIv1k77vL9TI3gtDTgZcw.jpg?r=acc', 'synopsis': 'Narrated by Whoopi Goldberg, this documentary follows the career of puppeteer Kevin Clash, the soft-spoken man behind the furry red monster Elmo.', 'rating': '7.6', 'type': 'movie', 'released': '2011', 'runtime': '1h16m', 'largeimage': 'http://cdn0.nflximg.net/images/8029/8718029.jpg', 'unogsdate': '2015-04-14', 'imdbid': 'tt1787660', 'download': '0'}\n",
      "On Page:  5\n",
      "Printing first result: Result 1 of 100\n",
      "\n",
      "\n",
      "{'netflixid': '80203522', 'title': 'Barbra: The Music ... The Mem&#39;ries ... The Magic!', 'image': 'https://occ-0-2851-38.1.nflxso.net/dnm/api/v6/evlCitJPPCVCry0BZlEFb5-QjKc/AAAABVU-ZzlCY2MEzBdYkVl4vfIX2-a9l0FX_vlh1n_ar-FaxOD4euuZUAIE1Ljyn_kunyCtOUnWev0As-6iD584TVgFAGqeUk69JZKBQd3WGKei-CmAMUMQWoQ4yKI.jpg?r=2dd', 'synopsis': 'Iconic songstress Barbra Streisand culminates her 13-city tour in Miami with dazzling ballads, Broadway standards and stories from behind the scenes.', 'rating': '7.5', 'type': 'movie', 'released': '2017', 'runtime': '1h48m', 'largeimage': '', 'unogsdate': '2017-11-28', 'imdbid': 'tt7588584', 'download': '0'}\n",
      "On Page:  6\n",
      "Printing first result: Result 1 of 100\n",
      "\n",
      "\n",
      "{'netflixid': '80080109', 'title': 'De Palma', 'image': 'https://occ-0-2219-2218.1.nflxso.net/dnm/api/v6/evlCitJPPCVCry0BZlEFb5-QjKc/AAAABahDZtohJY7Mxn7ZUMmFgidAjnEtopIOjY0afUGYs9-K7WsoVHVgPlcx3gXLKHaD-AVhFLqwyifz0KTwJ4PFPLLJRA.jpg?r=e4b', 'synopsis': 'Iconoclastic film director Brian DePalma takes a look back at the production of such classic movies as &#39;Carrie,&#39; &#39;Scarface&#39; and &#39;The Untouchables.&#39;', 'rating': '7.4', 'type': 'movie', 'released': '2015', 'runtime': '1h50m', 'largeimage': '', 'unogsdate': '2017-04-05', 'imdbid': 'tt1683048', 'download': '0'}\n",
      "On Page:  7\n",
      "Printing first result: Result 1 of 100\n",
      "\n",
      "\n",
      "{'netflixid': '80201175', 'title': 'Mom', 'image': 'http://occ-0-1490-1489.1.nflxso.net/dnm/api/v6/evlCitJPPCVCry0BZlEFb5-QjKc/AAAABecOUXRATGoFVr7UXockm_7JIg2RBP04jAJTlzpZKe_idhB8yEsAtkQkLV9fTZorAFTzq-Ciu_6wRdPBgfxlaQXL2A.jpg?r=ca5', 'synopsis': 'After her stepdaughter is sexually assaulted at a party, a furious mother sets out to destroy the lives of the four perpetrators who walked away free.', 'rating': '7.3', 'type': 'movie', 'released': '2017', 'runtime': '2h18m', 'largeimage': '', 'unogsdate': '2018-08-21', 'imdbid': 'tt5690142', 'download': '0'}\n",
      "On Page:  8\n",
      "Printing first result: Result 1 of 100\n",
      "\n",
      "\n",
      "{'netflixid': '80199381', 'title': 'Hostiles', 'image': 'https://occ-0-1926-41.1.nflxso.net/dnm/api/v6/evlCitJPPCVCry0BZlEFb5-QjKc/AAAABQ0g1ajniWYYKhpjBx2ZOleTQk57CtNQf0VMqY81JFCXwLY-NZUPBsoqTV4-0P1uwTdYnnPKshKw-FcO2HgcCXzF5w.jpg?r=b8a', 'synopsis': 'After a long career battling the Cheyenne, a U.S. Army captain is ordered to safely escort the tribe&#39;s most influential chief to his Montana homeland.', 'rating': '7.2', 'type': 'movie', 'released': '2017', 'runtime': '2h13m', 'largeimage': '', 'unogsdate': '2018-08-15', 'imdbid': 'tt5478478', 'download': '0'}\n",
      "On Page:  9\n",
      "Printing first result: Result 1 of 100\n",
      "\n",
      "\n",
      "{'netflixid': '80227113', 'title': 'Ek&#x15F;i Elmalar', 'image': 'https://occ-0-2851-38.1.nflxso.net/dnm/api/v6/evlCitJPPCVCry0BZlEFb5-QjKc/AAAABcTS0Q1TYvnZXK5Z-nq1pgnyddTHLHqOKFPsResMbX5OBruYe3sIl9blEkTCoh4RFLc4Fvi86F-mw9Fc_ftuuwz3ag.jpg?r=85f', 'synopsis': 'In an eastern Turkish town, suitors knock on the door of the mayor and father of three beautiful daughters who choose to follow their own paths.', 'rating': '7.1', 'type': 'movie', 'released': '2016', 'runtime': '1h49m', 'largeimage': '', 'unogsdate': '2018-04-04', 'imdbid': 'tt5985288', 'download': '0'}\n",
      "On Page:  10\n",
      "Printing first result: Result 1 of 100\n",
      "\n",
      "\n",
      "{'netflixid': '80158838', 'title': 'I Fine... Thank You... Love You', 'image': 'https://occ-0-2851-38.1.nflxso.net/dnm/api/v6/evlCitJPPCVCry0BZlEFb5-QjKc/AAAABZN1QwjvCdMEz9V_wSL8-whwk1GVOyHmGyasHBdYMlMNf_TxgE-d7K3P59Vs0GBWUraDr-zHb1kn306baXS032rrYQ.jpg?r=74e', 'synopsis': 'Desperate to go to the U.S. to win back his girlfriend, Yim hires a tutor to teach him English. But things don&#39;t go according to plan.', 'rating': '7', 'type': 'movie', 'released': '2014', 'runtime': '1h56m', 'largeimage': '', 'unogsdate': '2018-09-05', 'imdbid': 'tt4222718', 'download': '0'}\n"
     ]
    }
   ],
   "source": [
    "results = []\n",
    "\n",
    "for x in range(1,11):\n",
    "    querystring['p'] = x\n",
    "    \n",
    "    response = requests.request(\"GET\", url, headers=headers, params=querystring)\n",
    "            \n",
    "#     pprint(response.text)\n",
    "    \n",
    "    json_result = response.json()\n",
    "    result_item = json_result['ITEMS']\n",
    "    print(\"On Page: \", x)\n",
    "    print(\"Printing first result: Result 1 of 100\")\n",
    "    print('\\n')\n",
    "    print(result_item[0])\n",
    "    \n",
    "#     Saving each page as separate json file\n",
    "    with open (f'Output/json_files/netflix_pg{x}.json', 'w') as f:\n",
    "        json.dump(result_item, f)\n",
    "    \n",
    "#     result.item is a list of dictionaries\n",
    "#     Appending the result to the 'results' list\n",
    "    results.extend(result_item)\n",
    "    time.sleep(2)"
   ]
  },
  {
   "cell_type": "code",
   "execution_count": 5,
   "metadata": {},
   "outputs": [],
   "source": [
    "with open ('Output/json_files/netflix_all_pages.json', 'w') as f:\n",
    "    json.dump(results, f)"
   ]
  },
  {
   "cell_type": "code",
   "execution_count": 6,
   "metadata": {},
   "outputs": [
    {
     "data": {
      "text/html": [
       "<div>\n",
       "<style scoped>\n",
       "    .dataframe tbody tr th:only-of-type {\n",
       "        vertical-align: middle;\n",
       "    }\n",
       "\n",
       "    .dataframe tbody tr th {\n",
       "        vertical-align: top;\n",
       "    }\n",
       "\n",
       "    .dataframe thead th {\n",
       "        text-align: right;\n",
       "    }\n",
       "</style>\n",
       "<table border=\"1\" class=\"dataframe\">\n",
       "  <thead>\n",
       "    <tr style=\"text-align: right;\">\n",
       "      <th></th>\n",
       "      <th>netflixid</th>\n",
       "      <th>title</th>\n",
       "      <th>image</th>\n",
       "      <th>synopsis</th>\n",
       "      <th>rating</th>\n",
       "      <th>type</th>\n",
       "      <th>released</th>\n",
       "      <th>runtime</th>\n",
       "      <th>largeimage</th>\n",
       "      <th>unogsdate</th>\n",
       "      <th>imdbid</th>\n",
       "      <th>download</th>\n",
       "    </tr>\n",
       "  </thead>\n",
       "  <tbody>\n",
       "    <tr>\n",
       "      <td>0</td>\n",
       "      <td>80192064</td>\n",
       "      <td>Luciano Mellera: Infantiloide</td>\n",
       "      <td>http://occ-0-2851-38.1.nflxso.net/dnm/api/v6/e...</td>\n",
       "      <td>Argentina&amp;#39;s Luciano Mellera emphasizes the...</td>\n",
       "      <td>9.6</td>\n",
       "      <td>movie</td>\n",
       "      <td>2018</td>\n",
       "      <td>1h6m</td>\n",
       "      <td></td>\n",
       "      <td>2018-07-07</td>\n",
       "      <td>tt7607400</td>\n",
       "      <td>0</td>\n",
       "    </tr>\n",
       "    <tr>\n",
       "      <td>1</td>\n",
       "      <td>81206389</td>\n",
       "      <td>Oththa Seruppu Size 7</td>\n",
       "      <td>https://occ-0-2851-38.1.nflxso.net/dnm/api/v6/...</td>\n",
       "      <td>Taken into custody, a murder suspect&amp;#39;s the...</td>\n",
       "      <td>9.4</td>\n",
       "      <td>movie</td>\n",
       "      <td>2019</td>\n",
       "      <td>1h43m</td>\n",
       "      <td></td>\n",
       "      <td>2019-11-03</td>\n",
       "      <td>tt10370116</td>\n",
       "      <td>0</td>\n",
       "    </tr>\n",
       "    <tr>\n",
       "      <td>2</td>\n",
       "      <td>553500</td>\n",
       "      <td>The Good, the Bad and the Ugly</td>\n",
       "      <td>https://occ-0-1091-300.1.nflxso.net/dnm/api/v6...</td>\n",
       "      <td>While the Civil War rages between the Union an...</td>\n",
       "      <td>8.8</td>\n",
       "      <td>movie</td>\n",
       "      <td>1966</td>\n",
       "      <td>2h58m</td>\n",
       "      <td>http://cdn1.nflximg.net/images/4583/21904583.jpg</td>\n",
       "      <td>2015-04-14</td>\n",
       "      <td>tt0060196</td>\n",
       "      <td>0</td>\n",
       "    </tr>\n",
       "    <tr>\n",
       "      <td>3</td>\n",
       "      <td>70131314</td>\n",
       "      <td>Inception</td>\n",
       "      <td>https://occ-0-2851-38.1.nflxso.net/dnm/api/v6/...</td>\n",
       "      <td>In this mindbending sci-fi thriller, a man run...</td>\n",
       "      <td>8.8</td>\n",
       "      <td>movie</td>\n",
       "      <td>2010</td>\n",
       "      <td>2h28m</td>\n",
       "      <td>http://cdn1.nflximg.net/images/6571/9976571.jpg</td>\n",
       "      <td>2015-04-14</td>\n",
       "      <td>tt1375666</td>\n",
       "      <td>0</td>\n",
       "    </tr>\n",
       "    <tr>\n",
       "      <td>4</td>\n",
       "      <td>81002214</td>\n",
       "      <td>Mahabharat</td>\n",
       "      <td>https://occ-0-2851-38.1.nflxso.net/dnm/api/v6/...</td>\n",
       "      <td>Two young brothers encounter a singing bird wh...</td>\n",
       "      <td>8.8</td>\n",
       "      <td>movie</td>\n",
       "      <td>2013</td>\n",
       "      <td>1h59m</td>\n",
       "      <td></td>\n",
       "      <td>2018-08-01</td>\n",
       "      <td>tt3212600</td>\n",
       "      <td>0</td>\n",
       "    </tr>\n",
       "  </tbody>\n",
       "</table>\n",
       "</div>"
      ],
      "text/plain": [
       "   netflixid                           title  \\\n",
       "0   80192064   Luciano Mellera: Infantiloide   \n",
       "1   81206389           Oththa Seruppu Size 7   \n",
       "2     553500  The Good, the Bad and the Ugly   \n",
       "3   70131314                       Inception   \n",
       "4   81002214                      Mahabharat   \n",
       "\n",
       "                                               image  \\\n",
       "0  http://occ-0-2851-38.1.nflxso.net/dnm/api/v6/e...   \n",
       "1  https://occ-0-2851-38.1.nflxso.net/dnm/api/v6/...   \n",
       "2  https://occ-0-1091-300.1.nflxso.net/dnm/api/v6...   \n",
       "3  https://occ-0-2851-38.1.nflxso.net/dnm/api/v6/...   \n",
       "4  https://occ-0-2851-38.1.nflxso.net/dnm/api/v6/...   \n",
       "\n",
       "                                            synopsis  rating   type  released  \\\n",
       "0  Argentina&#39;s Luciano Mellera emphasizes the...     9.6  movie      2018   \n",
       "1  Taken into custody, a murder suspect&#39;s the...     9.4  movie      2019   \n",
       "2  While the Civil War rages between the Union an...     8.8  movie      1966   \n",
       "3  In this mindbending sci-fi thriller, a man run...     8.8  movie      2010   \n",
       "4  Two young brothers encounter a singing bird wh...     8.8  movie      2013   \n",
       "\n",
       "  runtime                                        largeimage   unogsdate  \\\n",
       "0    1h6m                                                    2018-07-07   \n",
       "1   1h43m                                                    2019-11-03   \n",
       "2   2h58m  http://cdn1.nflximg.net/images/4583/21904583.jpg  2015-04-14   \n",
       "3   2h28m   http://cdn1.nflximg.net/images/6571/9976571.jpg  2015-04-14   \n",
       "4   1h59m                                                    2018-08-01   \n",
       "\n",
       "       imdbid download  \n",
       "0   tt7607400        0  \n",
       "1  tt10370116        0  \n",
       "2   tt0060196        0  \n",
       "3   tt1375666        0  \n",
       "4   tt3212600        0  "
      ]
     },
     "execution_count": 6,
     "metadata": {},
     "output_type": "execute_result"
    }
   ],
   "source": [
    "netflix_df = pd.read_json('Output/json_files/netflix_all_pages.json')\n",
    "netflix_df.head()"
   ]
  },
  {
   "cell_type": "code",
   "execution_count": 7,
   "metadata": {},
   "outputs": [
    {
     "data": {
      "text/plain": [
       "(923, 12)"
      ]
     },
     "execution_count": 7,
     "metadata": {},
     "output_type": "execute_result"
    }
   ],
   "source": [
    "netflix_df.shape"
   ]
  },
  {
   "cell_type": "code",
   "execution_count": 8,
   "metadata": {},
   "outputs": [],
   "source": [
    "netflix_df.to_csv('Output/netflix_all_pages.csv')"
   ]
  },
  {
   "cell_type": "code",
   "execution_count": null,
   "metadata": {},
   "outputs": [],
   "source": []
  },
  {
   "cell_type": "code",
   "execution_count": null,
   "metadata": {},
   "outputs": [],
   "source": []
  },
  {
   "cell_type": "code",
   "execution_count": null,
   "metadata": {},
   "outputs": [],
   "source": []
  }
 ],
 "metadata": {
  "kernelspec": {
   "display_name": "Python 3",
   "language": "python",
   "name": "python3"
  },
  "language_info": {
   "codemirror_mode": {
    "name": "ipython",
    "version": 3
   },
   "file_extension": ".py",
   "mimetype": "text/x-python",
   "name": "python",
   "nbconvert_exporter": "python",
   "pygments_lexer": "ipython3",
   "version": "3.7.4"
  }
 },
 "nbformat": 4,
 "nbformat_minor": 2
}
